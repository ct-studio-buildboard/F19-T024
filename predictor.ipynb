{
 "cells": [
  {
   "cell_type": "code",
   "execution_count": 1,
   "metadata": {},
   "outputs": [],
   "source": [
    "import numpy as np\n",
    "import gensim\n"
   ]
  },
  {
   "cell_type": "code",
   "execution_count": 2,
   "metadata": {},
   "outputs": [],
   "source": [
    "# Load Google's pre-trained Word2Vec model.\n",
    "model = gensim.models.KeyedVectors.load_word2vec_format('GoogleNews-vectors-negative300.bin', binary=True)"
   ]
  },
  {
   "cell_type": "code",
   "execution_count": 3,
   "metadata": {},
   "outputs": [],
   "source": [
    "medioids_clust = ['family',\n",
    "                  'coworking',\n",
    "                  'ambiente','cupid','robots','lebanon','montana','ice','icon','family','supermarket','barricade',\n",
    "                  'cat','yogurt','ceviche','banners','abstract','cactus','car','antibiotic','sensor','digital']"
   ]
  },
  {
   "cell_type": "code",
   "execution_count": 4,
   "metadata": {},
   "outputs": [],
   "source": [
    "cat_names = [\n",
    "    'Women/Family',\n",
    "    'Work/Occupation',\n",
    "    'Spanish Words',\n",
    "    'Holidays and Events',\n",
    "    'technology/revolution',\n",
    "    'Countries',\n",
    "    'Travel',\n",
    "    'Materials',\n",
    "    'Icons',\n",
    "    'Family',\n",
    "    'Shopping/Errands',\n",
    "    'Urban',\n",
    "    'Animals',\n",
    "    'Food',\n",
    "    'Ethnic/Tropical Food',\n",
    "    'Design/Crafts',\n",
    "    'Art/Painting',\n",
    "    'Plants/Nature',\n",
    "    'Transportation',\n",
    "    'Chemical/Medicine',\n",
    "    'Machinery',\n",
    "    'Digital Tech'  \n",
    "]"
   ]
  },
  {
   "cell_type": "code",
   "execution_count": 5,
   "metadata": {},
   "outputs": [],
   "source": [
    "def list_ideas (word):\n",
    "    sim_values = []\n",
    "    for item in medioids_clust:\n",
    "        sim_values.append(model.similarity(item, word))\n",
    "    index = sim_values.index(max(sim_values))\n",
    "    print(index)\n",
    "    print(max(sim_values))\n",
    "    return index\n"
   ]
  },
  {
   "cell_type": "code",
   "execution_count": 6,
   "metadata": {},
   "outputs": [
    {
     "name": "stdout",
     "output_type": "stream",
     "text": [
      "18\n",
      "0.4693371\n",
      "18\n",
      "Transportation\n"
     ]
    }
   ],
   "source": [
    "ind = list_ideas('bus')\n",
    "print(ind)\n",
    "#print(medioids_clust[ind])\n",
    "print(cat_names[ind])"
   ]
  },
  {
   "cell_type": "code",
   "execution_count": null,
   "metadata": {},
   "outputs": [],
   "source": []
  }
 ],
 "metadata": {
  "kernelspec": {
   "display_name": "Python 3",
   "language": "python",
   "name": "python3"
  },
  "language_info": {
   "codemirror_mode": {
    "name": "ipython",
    "version": 3
   },
   "file_extension": ".py",
   "mimetype": "text/x-python",
   "name": "python",
   "nbconvert_exporter": "python",
   "pygments_lexer": "ipython3",
   "version": "3.7.3"
  }
 },
 "nbformat": 4,
 "nbformat_minor": 2
}
